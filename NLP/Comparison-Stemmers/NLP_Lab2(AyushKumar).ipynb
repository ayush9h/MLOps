{
  "cells": [
    {
      "cell_type": "markdown",
      "metadata": {
        "id": "view-in-github",
        "colab_type": "text"
      },
      "source": [
        "<a href=\"https://colab.research.google.com/github/ayush9h/MLOps/blob/main/NLP/Comparison-Stemmers/NLP_Lab2(AyushKumar).ipynb\" target=\"_parent\"><img src=\"https://colab.research.google.com/assets/colab-badge.svg\" alt=\"Open In Colab\"/></a>"
      ]
    },
    {
      "cell_type": "markdown",
      "metadata": {
        "id": "ilOfu0VQaRAo"
      },
      "source": [
        "# Importing stemmer libraries"
      ]
    },
    {
      "cell_type": "code",
      "execution_count": 66,
      "metadata": {
        "id": "F3kkx9CmZ2ZE"
      },
      "outputs": [],
      "source": [
        "import nltk\n",
        "from nltk.tokenize import word_tokenize\n",
        "from nltk.stem import PorterStemmer\n",
        "from nltk.stem.snowball import SnowballStemmer\n",
        "from nltk.stem.lancaster import LancasterStemmer"
      ]
    },
    {
      "cell_type": "code",
      "execution_count": 67,
      "metadata": {
        "colab": {
          "base_uri": "https://localhost:8080/"
        },
        "id": "td4fGhyBbZ_V",
        "outputId": "008f6e50-b4b5-4dbf-8aa7-ba367670c4d6"
      },
      "outputs": [
        {
          "output_type": "stream",
          "name": "stderr",
          "text": [
            "[nltk_data] Downloading package punkt to /root/nltk_data...\n",
            "[nltk_data]   Package punkt is already up-to-date!\n"
          ]
        },
        {
          "output_type": "execute_result",
          "data": {
            "text/plain": [
              "True"
            ]
          },
          "metadata": {},
          "execution_count": 67
        }
      ],
      "source": [
        "nltk.download('punkt')"
      ]
    },
    {
      "cell_type": "markdown",
      "metadata": {
        "id": "1MXadwEbguVm"
      },
      "source": [
        "## Defining Inputs"
      ]
    },
    {
      "cell_type": "code",
      "execution_count": 68,
      "metadata": {
        "id": "7TAqQW0ogxDE"
      },
      "outputs": [],
      "source": [
        "input_sentences = [\n",
        "    \"professor lectures were renowned for their profundity often delving into abstruse topics\",\n",
        "    \"tempestuous relationship between two lovers was fraught with acrimony and recrimination\",\n",
        "    \"The striped bats were hanging on their feet and ate best fishes\",\n",
        "    \"arcane rituals performed indigenous tribe during equinox were shrouded mystery and intrigue\",\n",
        "    \"hermit lived reclusive life hinterlands surrounded arcane artifacts and ancient texts\"\n",
        "]"
      ]
    },
    {
      "cell_type": "code",
      "execution_count": 69,
      "metadata": {
        "id": "eXs2FTA1Z43H"
      },
      "outputs": [],
      "source": [
        "tokenized_sentences = [word_tokenize(sentence) for sentence in input_sentences]"
      ]
    },
    {
      "cell_type": "markdown",
      "metadata": {
        "id": "xZYRcu1VeJGJ"
      },
      "source": [
        "## Comparison of Stemmers"
      ]
    },
    {
      "cell_type": "code",
      "execution_count": 70,
      "metadata": {
        "id": "6Qrj7l-bbXmr"
      },
      "outputs": [],
      "source": [
        "porter_stemmer = PorterStemmer()\n",
        "snowball_stemmer = SnowballStemmer(language='english')\n",
        "lancaster_stemmer = LancasterStemmer()\n",
        "\n",
        "stemmed_porter = [[porter_stemmer.stem(word) for word in tokenized_sentence] for tokenized_sentence in tokenized_sentences]\n",
        "stemmed_snowball = [[snowball_stemmer.stem(word) for word in tokenized_sentence] for tokenized_sentence in tokenized_sentences]\n",
        "stemmed_lancaster = [[lancaster_stemmer.stem(word) for word in tokenized_sentence] for tokenized_sentence in tokenized_sentences]"
      ]
    },
    {
      "cell_type": "code",
      "execution_count": 71,
      "metadata": {
        "colab": {
          "base_uri": "https://localhost:8080/"
        },
        "id": "NnrEft00pyiY",
        "outputId": "ced35c11-c41a-4b40-9eec-44bf8906cbac"
      },
      "outputs": [
        {
          "output_type": "stream",
          "name": "stdout",
          "text": [
            "Using Porter Stemmer: \n",
            "Sentence 1: ['professor', 'lectur', 'were', 'renown', 'for', 'their', 'profund', 'often', 'delv', 'into', 'abstrus', 'topic']\n",
            "Sentence 2: ['tempestu', 'relationship', 'between', 'two', 'lover', 'wa', 'fraught', 'with', 'acrimoni', 'and', 'recrimin']\n",
            "Sentence 3: ['the', 'stripe', 'bat', 'were', 'hang', 'on', 'their', 'feet', 'and', 'ate', 'best', 'fish']\n",
            "Sentence 4: ['arcan', 'ritual', 'perform', 'indigen', 'tribe', 'dure', 'equinox', 'were', 'shroud', 'mysteri', 'and', 'intrigu']\n",
            "Sentence 5: ['hermit', 'live', 'reclus', 'life', 'hinterland', 'surround', 'arcan', 'artifact', 'and', 'ancient', 'text']\n",
            "Using Snowball Stemmer: \n",
            "Sentence 1: ['professor', 'lectur', 'were', 'renown', 'for', 'their', 'profund', 'often', 'delv', 'into', 'abstrus', 'topic']\n",
            "Sentence 2: ['tempestu', 'relationship', 'between', 'two', 'lover', 'was', 'fraught', 'with', 'acrimoni', 'and', 'recrimin']\n",
            "Sentence 3: ['the', 'stripe', 'bat', 'were', 'hang', 'on', 'their', 'feet', 'and', 'ate', 'best', 'fish']\n",
            "Sentence 4: ['arcan', 'ritual', 'perform', 'indigen', 'tribe', 'dure', 'equinox', 'were', 'shroud', 'mysteri', 'and', 'intrigu']\n",
            "Sentence 5: ['hermit', 'live', 'reclus', 'life', 'hinterland', 'surround', 'arcan', 'artifact', 'and', 'ancient', 'text']\n",
            "Using Lancaster Stemmer: \n",
            "Sentence 1: ['profess', 'lect', 'wer', 'renown', 'for', 'their', 'profund', 'oft', 'delv', 'into', 'abstrus', 'top']\n",
            "Sentence 2: ['tempestu', 'rel', 'between', 'two', 'lov', 'was', 'fraught', 'with', 'acrimony', 'and', 'recrimin']\n",
            "Sentence 3: ['the', 'striped', 'bat', 'wer', 'hang', 'on', 'their', 'feet', 'and', 'at', 'best', 'fish']\n",
            "Sentence 4: ['arc', 'rit', 'perform', 'indig', 'trib', 'dur', 'equinox', 'wer', 'shrouded', 'mystery', 'and', 'intrigu']\n",
            "Sentence 5: ['hermit', 'liv', 'reclud', 'lif', 'hinterland', 'surround', 'arc', 'artifact', 'and', 'ant', 'text']\n"
          ]
        }
      ],
      "source": [
        "print(\"Using Porter Stemmer: \")\n",
        "for index, stemmed_sentence in enumerate(stemmed_porter, 1):\n",
        "    print(f\"Sentence {index}: {stemmed_sentence}\")\n",
        "\n",
        "print(\"Using Snowball Stemmer: \")\n",
        "for index, stemmed_sentence in enumerate(stemmed_snowball, 1):\n",
        "    print(f\"Sentence {index}: {stemmed_sentence}\")\n",
        "\n",
        "print(\"Using Lancaster Stemmer: \")\n",
        "for index, stemmed_sentence in enumerate(stemmed_lancaster, 1):\n",
        "    print(f\"Sentence {index}: {stemmed_sentence}\")"
      ]
    },
    {
      "cell_type": "markdown",
      "metadata": {
        "id": "djL-rqxjehyu"
      },
      "source": [
        "## Applying Lemmatization"
      ]
    },
    {
      "cell_type": "code",
      "execution_count": 72,
      "metadata": {
        "colab": {
          "base_uri": "https://localhost:8080/"
        },
        "id": "pCFBbTEdb_SR",
        "outputId": "636db660-dca0-4feb-fa48-f6285bebea1d"
      },
      "outputs": [
        {
          "output_type": "stream",
          "name": "stderr",
          "text": [
            "[nltk_data] Downloading package wordnet to /root/nltk_data...\n",
            "[nltk_data]   Package wordnet is already up-to-date!\n"
          ]
        },
        {
          "output_type": "execute_result",
          "data": {
            "text/plain": [
              "True"
            ]
          },
          "metadata": {},
          "execution_count": 72
        }
      ],
      "source": [
        "from nltk.stem import WordNetLemmatizer\n",
        "nltk.download('wordnet')"
      ]
    },
    {
      "cell_type": "code",
      "execution_count": 73,
      "metadata": {
        "id": "TENyHluBezFw"
      },
      "outputs": [],
      "source": [
        "lemmatizer = WordNetLemmatizer()\n",
        "lemmatized_sentence = [[lemmatizer.lemmatize(word) for word in tokenized_sentence] for tokenized_sentence in tokenized_sentences]"
      ]
    },
    {
      "cell_type": "markdown",
      "metadata": {
        "id": "WYQX3hxSVfKK"
      },
      "source": [
        "TextBlob Lemmatization"
      ]
    },
    {
      "cell_type": "code",
      "execution_count": 74,
      "metadata": {
        "colab": {
          "base_uri": "https://localhost:8080/"
        },
        "id": "fo3OQJmW9TKB",
        "outputId": "a1bef1db-2ae6-4d4d-d4e0-b2e85fa66f39"
      },
      "outputs": [
        {
          "output_type": "stream",
          "name": "stdout",
          "text": [
            "Requirement already satisfied: textblob in /usr/local/lib/python3.10/dist-packages (0.17.1)\n",
            "Requirement already satisfied: nltk>=3.1 in /usr/local/lib/python3.10/dist-packages (from textblob) (3.8.1)\n",
            "Requirement already satisfied: click in /usr/local/lib/python3.10/dist-packages (from nltk>=3.1->textblob) (8.1.7)\n",
            "Requirement already satisfied: joblib in /usr/local/lib/python3.10/dist-packages (from nltk>=3.1->textblob) (1.3.2)\n",
            "Requirement already satisfied: regex>=2021.8.3 in /usr/local/lib/python3.10/dist-packages (from nltk>=3.1->textblob) (2023.12.25)\n",
            "Requirement already satisfied: tqdm in /usr/local/lib/python3.10/dist-packages (from nltk>=3.1->textblob) (4.66.2)\n"
          ]
        }
      ],
      "source": [
        "!pip install textblob"
      ]
    },
    {
      "cell_type": "code",
      "execution_count": 75,
      "metadata": {
        "id": "230CWK2OMHn5"
      },
      "outputs": [],
      "source": [
        "from textblob import TextBlob,Word"
      ]
    },
    {
      "cell_type": "code",
      "execution_count": 76,
      "metadata": {
        "id": "9PUNuGx4MPxL"
      },
      "outputs": [],
      "source": [
        "lemmatized_sentence_blob = [[Word(word).lemmatize() for word in tokenized_sentence] for tokenized_sentence in tokenized_sentences]"
      ]
    },
    {
      "cell_type": "markdown",
      "metadata": {
        "id": "tg0kx9bIVhvh"
      },
      "source": [
        "Spacy Lemmatization"
      ]
    },
    {
      "cell_type": "code",
      "execution_count": 77,
      "metadata": {
        "id": "iOW4MD0gRfi9"
      },
      "outputs": [],
      "source": [
        "import spacy"
      ]
    },
    {
      "cell_type": "code",
      "execution_count": 78,
      "metadata": {
        "id": "pkKSTKUqRnhd"
      },
      "outputs": [],
      "source": [
        "spac_lemmat = spacy.load('en_core_web_sm')\n",
        "lemmatized_sentence_spacy = [[token.lemma_ for token in spac_lemmat(\" \".join(tokenized_sentence))] for tokenized_sentence in tokenized_sentences]"
      ]
    },
    {
      "cell_type": "code",
      "execution_count": 79,
      "metadata": {
        "colab": {
          "base_uri": "https://localhost:8080/"
        },
        "id": "7lA65sDqMpr-",
        "outputId": "d43cee7b-f11d-4104-87ad-27e4c21ef2ea"
      },
      "outputs": [
        {
          "output_type": "stream",
          "name": "stdout",
          "text": [
            "Using WordNet Lemmatization: \n",
            "Sentence 1: ['professor', 'lecture', 'were', 'renowned', 'for', 'their', 'profundity', 'often', 'delving', 'into', 'abstruse', 'topic']\n",
            "Sentence 2: ['tempestuous', 'relationship', 'between', 'two', 'lover', 'wa', 'fraught', 'with', 'acrimony', 'and', 'recrimination']\n",
            "Sentence 3: ['The', 'striped', 'bat', 'were', 'hanging', 'on', 'their', 'foot', 'and', 'ate', 'best', 'fish']\n",
            "Sentence 4: ['arcane', 'ritual', 'performed', 'indigenous', 'tribe', 'during', 'equinox', 'were', 'shrouded', 'mystery', 'and', 'intrigue']\n",
            "Sentence 5: ['hermit', 'lived', 'reclusive', 'life', 'hinterland', 'surrounded', 'arcane', 'artifact', 'and', 'ancient', 'text']\n",
            "Using TextBlob Lemmatization: \n",
            "Sentence 1 : ['professor', 'lecture', 'were', 'renowned', 'for', 'their', 'profundity', 'often', 'delving', 'into', 'abstruse', 'topic']\n",
            "Sentence 2 : ['tempestuous', 'relationship', 'between', 'two', 'lover', 'wa', 'fraught', 'with', 'acrimony', 'and', 'recrimination']\n",
            "Sentence 3 : ['The', 'striped', 'bat', 'were', 'hanging', 'on', 'their', 'foot', 'and', 'ate', 'best', 'fish']\n",
            "Sentence 4 : ['arcane', 'ritual', 'performed', 'indigenous', 'tribe', 'during', 'equinox', 'were', 'shrouded', 'mystery', 'and', 'intrigue']\n",
            "Sentence 5 : ['hermit', 'lived', 'reclusive', 'life', 'hinterland', 'surrounded', 'arcane', 'artifact', 'and', 'ancient', 'text']\n",
            "Using Spacy Lemmatization: \n",
            "Sentence 1: ['professor', 'lecture', 'be', 'renowne', 'for', 'their', 'profundity', 'often', 'delve', 'into', 'abstruse', 'topic']\n",
            "Sentence 2: ['tempestuous', 'relationship', 'between', 'two', 'lover', 'be', 'fraught', 'with', 'acrimony', 'and', 'recrimination']\n",
            "Sentence 3: ['the', 'stripe', 'bat', 'be', 'hang', 'on', 'their', 'foot', 'and', 'eat', 'good', 'fish']\n",
            "Sentence 4: ['arcane', 'ritual', 'perform', 'indigenous', 'tribe', 'during', 'equinox', 'be', 'shroud', 'mystery', 'and', 'intrigue']\n",
            "Sentence 5: ['hermit', 'live', 'reclusive', 'life', 'hinterland', 'surround', 'arcane', 'artifact', 'and', 'ancient', 'text']\n"
          ]
        }
      ],
      "source": [
        "print(\"Using WordNet Lemmatization: \")\n",
        "for i,lemmatize_sentence in enumerate(lemmatized_sentence,1):\n",
        "  print(f\"Sentence {i}: {lemmatize_sentence}\")\n",
        "\n",
        "print(\"Using TextBlob Lemmatization: \")\n",
        "for i,lemmatize_sentence in enumerate(lemmatized_sentence_blob,1):\n",
        "  print(f\"Sentence {i} : {lemmatize_sentence}\")\n",
        "\n",
        "print(\"Using Spacy Lemmatization: \")\n",
        "for i,lemmatize_sentence in enumerate(lemmatized_sentence_spacy,1):\n",
        "  print(f\"Sentence {i}: {lemmatize_sentence}\")"
      ]
    },
    {
      "cell_type": "markdown",
      "metadata": {
        "id": "imrl-wdON-if"
      },
      "source": [
        "## Comparison Table for Stemmers"
      ]
    },
    {
      "cell_type": "code",
      "execution_count": 80,
      "metadata": {
        "id": "KKBPEigNMu9k"
      },
      "outputs": [],
      "source": [
        "import pandas as pd"
      ]
    },
    {
      "cell_type": "code",
      "execution_count": 81,
      "metadata": {
        "id": "inHgb0hGO384"
      },
      "outputs": [],
      "source": [
        "d = {'Input Sentences': input_sentences, 'Porter Stemmer':stemmed_porter, 'Lancaster Stemmer':stemmed_lancaster,'Snowball Stemmer':stemmed_snowball}\n",
        "df_stemmers = pd.DataFrame(data = d)"
      ]
    },
    {
      "cell_type": "code",
      "execution_count": 82,
      "metadata": {
        "colab": {
          "base_uri": "https://localhost:8080/",
          "height": 675
        },
        "id": "mngzceNWPLl7",
        "outputId": "44376cdb-9aca-42b1-d4cf-29859f6cb609"
      },
      "outputs": [
        {
          "output_type": "execute_result",
          "data": {
            "text/plain": [
              "                                     Input Sentences  \\\n",
              "0  professor lectures were renowned for their pro...   \n",
              "1  tempestuous relationship between two lovers wa...   \n",
              "2  The striped bats were hanging on their feet an...   \n",
              "3  arcane rituals performed indigenous tribe duri...   \n",
              "4  hermit lived reclusive life hinterlands surrou...   \n",
              "\n",
              "                                      Porter Stemmer  \\\n",
              "0  [professor, lectur, were, renown, for, their, ...   \n",
              "1  [tempestu, relationship, between, two, lover, ...   \n",
              "2  [the, stripe, bat, were, hang, on, their, feet...   \n",
              "3  [arcan, ritual, perform, indigen, tribe, dure,...   \n",
              "4  [hermit, live, reclus, life, hinterland, surro...   \n",
              "\n",
              "                                   Lancaster Stemmer  \\\n",
              "0  [profess, lect, wer, renown, for, their, profu...   \n",
              "1  [tempestu, rel, between, two, lov, was, fraugh...   \n",
              "2  [the, striped, bat, wer, hang, on, their, feet...   \n",
              "3  [arc, rit, perform, indig, trib, dur, equinox,...   \n",
              "4  [hermit, liv, reclud, lif, hinterland, surroun...   \n",
              "\n",
              "                                    Snowball Stemmer  \n",
              "0  [professor, lectur, were, renown, for, their, ...  \n",
              "1  [tempestu, relationship, between, two, lover, ...  \n",
              "2  [the, stripe, bat, were, hang, on, their, feet...  \n",
              "3  [arcan, ritual, perform, indigen, tribe, dure,...  \n",
              "4  [hermit, live, reclus, life, hinterland, surro...  "
            ],
            "text/html": [
              "\n",
              "  <div id=\"df-f0a608ed-8303-47cc-a296-96cb5160dd3d\" class=\"colab-df-container\">\n",
              "    <div>\n",
              "<style scoped>\n",
              "    .dataframe tbody tr th:only-of-type {\n",
              "        vertical-align: middle;\n",
              "    }\n",
              "\n",
              "    .dataframe tbody tr th {\n",
              "        vertical-align: top;\n",
              "    }\n",
              "\n",
              "    .dataframe thead th {\n",
              "        text-align: right;\n",
              "    }\n",
              "</style>\n",
              "<table border=\"1\" class=\"dataframe\">\n",
              "  <thead>\n",
              "    <tr style=\"text-align: right;\">\n",
              "      <th></th>\n",
              "      <th>Input Sentences</th>\n",
              "      <th>Porter Stemmer</th>\n",
              "      <th>Lancaster Stemmer</th>\n",
              "      <th>Snowball Stemmer</th>\n",
              "    </tr>\n",
              "  </thead>\n",
              "  <tbody>\n",
              "    <tr>\n",
              "      <th>0</th>\n",
              "      <td>professor lectures were renowned for their pro...</td>\n",
              "      <td>[professor, lectur, were, renown, for, their, ...</td>\n",
              "      <td>[profess, lect, wer, renown, for, their, profu...</td>\n",
              "      <td>[professor, lectur, were, renown, for, their, ...</td>\n",
              "    </tr>\n",
              "    <tr>\n",
              "      <th>1</th>\n",
              "      <td>tempestuous relationship between two lovers wa...</td>\n",
              "      <td>[tempestu, relationship, between, two, lover, ...</td>\n",
              "      <td>[tempestu, rel, between, two, lov, was, fraugh...</td>\n",
              "      <td>[tempestu, relationship, between, two, lover, ...</td>\n",
              "    </tr>\n",
              "    <tr>\n",
              "      <th>2</th>\n",
              "      <td>The striped bats were hanging on their feet an...</td>\n",
              "      <td>[the, stripe, bat, were, hang, on, their, feet...</td>\n",
              "      <td>[the, striped, bat, wer, hang, on, their, feet...</td>\n",
              "      <td>[the, stripe, bat, were, hang, on, their, feet...</td>\n",
              "    </tr>\n",
              "    <tr>\n",
              "      <th>3</th>\n",
              "      <td>arcane rituals performed indigenous tribe duri...</td>\n",
              "      <td>[arcan, ritual, perform, indigen, tribe, dure,...</td>\n",
              "      <td>[arc, rit, perform, indig, trib, dur, equinox,...</td>\n",
              "      <td>[arcan, ritual, perform, indigen, tribe, dure,...</td>\n",
              "    </tr>\n",
              "    <tr>\n",
              "      <th>4</th>\n",
              "      <td>hermit lived reclusive life hinterlands surrou...</td>\n",
              "      <td>[hermit, live, reclus, life, hinterland, surro...</td>\n",
              "      <td>[hermit, liv, reclud, lif, hinterland, surroun...</td>\n",
              "      <td>[hermit, live, reclus, life, hinterland, surro...</td>\n",
              "    </tr>\n",
              "  </tbody>\n",
              "</table>\n",
              "</div>\n",
              "    <div class=\"colab-df-buttons\">\n",
              "\n",
              "  <div class=\"colab-df-container\">\n",
              "    <button class=\"colab-df-convert\" onclick=\"convertToInteractive('df-f0a608ed-8303-47cc-a296-96cb5160dd3d')\"\n",
              "            title=\"Convert this dataframe to an interactive table.\"\n",
              "            style=\"display:none;\">\n",
              "\n",
              "  <svg xmlns=\"http://www.w3.org/2000/svg\" height=\"24px\" viewBox=\"0 -960 960 960\">\n",
              "    <path d=\"M120-120v-720h720v720H120Zm60-500h600v-160H180v160Zm220 220h160v-160H400v160Zm0 220h160v-160H400v160ZM180-400h160v-160H180v160Zm440 0h160v-160H620v160ZM180-180h160v-160H180v160Zm440 0h160v-160H620v160Z\"/>\n",
              "  </svg>\n",
              "    </button>\n",
              "\n",
              "  <style>\n",
              "    .colab-df-container {\n",
              "      display:flex;\n",
              "      gap: 12px;\n",
              "    }\n",
              "\n",
              "    .colab-df-convert {\n",
              "      background-color: #E8F0FE;\n",
              "      border: none;\n",
              "      border-radius: 50%;\n",
              "      cursor: pointer;\n",
              "      display: none;\n",
              "      fill: #1967D2;\n",
              "      height: 32px;\n",
              "      padding: 0 0 0 0;\n",
              "      width: 32px;\n",
              "    }\n",
              "\n",
              "    .colab-df-convert:hover {\n",
              "      background-color: #E2EBFA;\n",
              "      box-shadow: 0px 1px 2px rgba(60, 64, 67, 0.3), 0px 1px 3px 1px rgba(60, 64, 67, 0.15);\n",
              "      fill: #174EA6;\n",
              "    }\n",
              "\n",
              "    .colab-df-buttons div {\n",
              "      margin-bottom: 4px;\n",
              "    }\n",
              "\n",
              "    [theme=dark] .colab-df-convert {\n",
              "      background-color: #3B4455;\n",
              "      fill: #D2E3FC;\n",
              "    }\n",
              "\n",
              "    [theme=dark] .colab-df-convert:hover {\n",
              "      background-color: #434B5C;\n",
              "      box-shadow: 0px 1px 3px 1px rgba(0, 0, 0, 0.15);\n",
              "      filter: drop-shadow(0px 1px 2px rgba(0, 0, 0, 0.3));\n",
              "      fill: #FFFFFF;\n",
              "    }\n",
              "  </style>\n",
              "\n",
              "    <script>\n",
              "      const buttonEl =\n",
              "        document.querySelector('#df-f0a608ed-8303-47cc-a296-96cb5160dd3d button.colab-df-convert');\n",
              "      buttonEl.style.display =\n",
              "        google.colab.kernel.accessAllowed ? 'block' : 'none';\n",
              "\n",
              "      async function convertToInteractive(key) {\n",
              "        const element = document.querySelector('#df-f0a608ed-8303-47cc-a296-96cb5160dd3d');\n",
              "        const dataTable =\n",
              "          await google.colab.kernel.invokeFunction('convertToInteractive',\n",
              "                                                    [key], {});\n",
              "        if (!dataTable) return;\n",
              "\n",
              "        const docLinkHtml = 'Like what you see? Visit the ' +\n",
              "          '<a target=\"_blank\" href=https://colab.research.google.com/notebooks/data_table.ipynb>data table notebook</a>'\n",
              "          + ' to learn more about interactive tables.';\n",
              "        element.innerHTML = '';\n",
              "        dataTable['output_type'] = 'display_data';\n",
              "        await google.colab.output.renderOutput(dataTable, element);\n",
              "        const docLink = document.createElement('div');\n",
              "        docLink.innerHTML = docLinkHtml;\n",
              "        element.appendChild(docLink);\n",
              "      }\n",
              "    </script>\n",
              "  </div>\n",
              "\n",
              "\n",
              "<div id=\"df-b4e29533-3af1-4e16-a760-f5caf535fc56\">\n",
              "  <button class=\"colab-df-quickchart\" onclick=\"quickchart('df-b4e29533-3af1-4e16-a760-f5caf535fc56')\"\n",
              "            title=\"Suggest charts\"\n",
              "            style=\"display:none;\">\n",
              "\n",
              "<svg xmlns=\"http://www.w3.org/2000/svg\" height=\"24px\"viewBox=\"0 0 24 24\"\n",
              "     width=\"24px\">\n",
              "    <g>\n",
              "        <path d=\"M19 3H5c-1.1 0-2 .9-2 2v14c0 1.1.9 2 2 2h14c1.1 0 2-.9 2-2V5c0-1.1-.9-2-2-2zM9 17H7v-7h2v7zm4 0h-2V7h2v10zm4 0h-2v-4h2v4z\"/>\n",
              "    </g>\n",
              "</svg>\n",
              "  </button>\n",
              "\n",
              "<style>\n",
              "  .colab-df-quickchart {\n",
              "      --bg-color: #E8F0FE;\n",
              "      --fill-color: #1967D2;\n",
              "      --hover-bg-color: #E2EBFA;\n",
              "      --hover-fill-color: #174EA6;\n",
              "      --disabled-fill-color: #AAA;\n",
              "      --disabled-bg-color: #DDD;\n",
              "  }\n",
              "\n",
              "  [theme=dark] .colab-df-quickchart {\n",
              "      --bg-color: #3B4455;\n",
              "      --fill-color: #D2E3FC;\n",
              "      --hover-bg-color: #434B5C;\n",
              "      --hover-fill-color: #FFFFFF;\n",
              "      --disabled-bg-color: #3B4455;\n",
              "      --disabled-fill-color: #666;\n",
              "  }\n",
              "\n",
              "  .colab-df-quickchart {\n",
              "    background-color: var(--bg-color);\n",
              "    border: none;\n",
              "    border-radius: 50%;\n",
              "    cursor: pointer;\n",
              "    display: none;\n",
              "    fill: var(--fill-color);\n",
              "    height: 32px;\n",
              "    padding: 0;\n",
              "    width: 32px;\n",
              "  }\n",
              "\n",
              "  .colab-df-quickchart:hover {\n",
              "    background-color: var(--hover-bg-color);\n",
              "    box-shadow: 0 1px 2px rgba(60, 64, 67, 0.3), 0 1px 3px 1px rgba(60, 64, 67, 0.15);\n",
              "    fill: var(--button-hover-fill-color);\n",
              "  }\n",
              "\n",
              "  .colab-df-quickchart-complete:disabled,\n",
              "  .colab-df-quickchart-complete:disabled:hover {\n",
              "    background-color: var(--disabled-bg-color);\n",
              "    fill: var(--disabled-fill-color);\n",
              "    box-shadow: none;\n",
              "  }\n",
              "\n",
              "  .colab-df-spinner {\n",
              "    border: 2px solid var(--fill-color);\n",
              "    border-color: transparent;\n",
              "    border-bottom-color: var(--fill-color);\n",
              "    animation:\n",
              "      spin 1s steps(1) infinite;\n",
              "  }\n",
              "\n",
              "  @keyframes spin {\n",
              "    0% {\n",
              "      border-color: transparent;\n",
              "      border-bottom-color: var(--fill-color);\n",
              "      border-left-color: var(--fill-color);\n",
              "    }\n",
              "    20% {\n",
              "      border-color: transparent;\n",
              "      border-left-color: var(--fill-color);\n",
              "      border-top-color: var(--fill-color);\n",
              "    }\n",
              "    30% {\n",
              "      border-color: transparent;\n",
              "      border-left-color: var(--fill-color);\n",
              "      border-top-color: var(--fill-color);\n",
              "      border-right-color: var(--fill-color);\n",
              "    }\n",
              "    40% {\n",
              "      border-color: transparent;\n",
              "      border-right-color: var(--fill-color);\n",
              "      border-top-color: var(--fill-color);\n",
              "    }\n",
              "    60% {\n",
              "      border-color: transparent;\n",
              "      border-right-color: var(--fill-color);\n",
              "    }\n",
              "    80% {\n",
              "      border-color: transparent;\n",
              "      border-right-color: var(--fill-color);\n",
              "      border-bottom-color: var(--fill-color);\n",
              "    }\n",
              "    90% {\n",
              "      border-color: transparent;\n",
              "      border-bottom-color: var(--fill-color);\n",
              "    }\n",
              "  }\n",
              "</style>\n",
              "\n",
              "  <script>\n",
              "    async function quickchart(key) {\n",
              "      const quickchartButtonEl =\n",
              "        document.querySelector('#' + key + ' button');\n",
              "      quickchartButtonEl.disabled = true;  // To prevent multiple clicks.\n",
              "      quickchartButtonEl.classList.add('colab-df-spinner');\n",
              "      try {\n",
              "        const charts = await google.colab.kernel.invokeFunction(\n",
              "            'suggestCharts', [key], {});\n",
              "      } catch (error) {\n",
              "        console.error('Error during call to suggestCharts:', error);\n",
              "      }\n",
              "      quickchartButtonEl.classList.remove('colab-df-spinner');\n",
              "      quickchartButtonEl.classList.add('colab-df-quickchart-complete');\n",
              "    }\n",
              "    (() => {\n",
              "      let quickchartButtonEl =\n",
              "        document.querySelector('#df-b4e29533-3af1-4e16-a760-f5caf535fc56 button');\n",
              "      quickchartButtonEl.style.display =\n",
              "        google.colab.kernel.accessAllowed ? 'block' : 'none';\n",
              "    })();\n",
              "  </script>\n",
              "</div>\n",
              "    </div>\n",
              "  </div>\n"
            ],
            "application/vnd.google.colaboratory.intrinsic+json": {
              "type": "dataframe",
              "variable_name": "df_stemmers",
              "summary": "{\n  \"name\": \"df_stemmers\",\n  \"rows\": 5,\n  \"fields\": [\n    {\n      \"column\": \"Input Sentences\",\n      \"properties\": {\n        \"dtype\": \"string\",\n        \"num_unique_values\": 5,\n        \"samples\": [\n          \"tempestuous relationship between two lovers was fraught with acrimony and recrimination\",\n          \"hermit lived reclusive life hinterlands surrounded arcane artifacts and ancient texts\",\n          \"The striped bats were hanging on their feet and ate best fishes\"\n        ],\n        \"semantic_type\": \"\",\n        \"description\": \"\"\n      }\n    },\n    {\n      \"column\": \"Porter Stemmer\",\n      \"properties\": {\n        \"dtype\": \"object\",\n        \"semantic_type\": \"\",\n        \"description\": \"\"\n      }\n    },\n    {\n      \"column\": \"Lancaster Stemmer\",\n      \"properties\": {\n        \"dtype\": \"object\",\n        \"semantic_type\": \"\",\n        \"description\": \"\"\n      }\n    },\n    {\n      \"column\": \"Snowball Stemmer\",\n      \"properties\": {\n        \"dtype\": \"object\",\n        \"semantic_type\": \"\",\n        \"description\": \"\"\n      }\n    }\n  ]\n}"
            }
          },
          "metadata": {},
          "execution_count": 82
        }
      ],
      "source": [
        "df_stemmers"
      ]
    },
    {
      "cell_type": "markdown",
      "metadata": {
        "id": "oyb91WP0Py52"
      },
      "source": [
        "## Comparison Table for Lemmatizers"
      ]
    },
    {
      "cell_type": "code",
      "execution_count": 83,
      "metadata": {
        "id": "L68IczpSPcob"
      },
      "outputs": [],
      "source": [
        "d = {'Input Sentences': input_sentences, 'Word Net Lemmatizer':lemmatized_sentence, 'TextBlob Lemmatizer':lemmatized_sentence_blob, \"Spacy Lemmatization\" : lemmatized_sentence_spacy}\n",
        "df_lemmatizers = pd.DataFrame(data = d)"
      ]
    },
    {
      "cell_type": "code",
      "execution_count": 84,
      "metadata": {
        "colab": {
          "base_uri": "https://localhost:8080/",
          "height": 675
        },
        "id": "T4nrDZ05QCts",
        "outputId": "21583a8b-9b18-45e3-902b-5e95379822f0"
      },
      "outputs": [
        {
          "output_type": "execute_result",
          "data": {
            "text/plain": [
              "                                     Input Sentences  \\\n",
              "0  professor lectures were renowned for their pro...   \n",
              "1  tempestuous relationship between two lovers wa...   \n",
              "2  The striped bats were hanging on their feet an...   \n",
              "3  arcane rituals performed indigenous tribe duri...   \n",
              "4  hermit lived reclusive life hinterlands surrou...   \n",
              "\n",
              "                                 Word Net Lemmatizer  \\\n",
              "0  [professor, lecture, were, renowned, for, thei...   \n",
              "1  [tempestuous, relationship, between, two, love...   \n",
              "2  [The, striped, bat, were, hanging, on, their, ...   \n",
              "3  [arcane, ritual, performed, indigenous, tribe,...   \n",
              "4  [hermit, lived, reclusive, life, hinterland, s...   \n",
              "\n",
              "                                 TextBlob Lemmatizer  \\\n",
              "0  [professor, lecture, were, renowned, for, thei...   \n",
              "1  [tempestuous, relationship, between, two, love...   \n",
              "2  [The, striped, bat, were, hanging, on, their, ...   \n",
              "3  [arcane, ritual, performed, indigenous, tribe,...   \n",
              "4  [hermit, lived, reclusive, life, hinterland, s...   \n",
              "\n",
              "                                 Spacy Lemmatization  \n",
              "0  [professor, lecture, be, renowne, for, their, ...  \n",
              "1  [tempestuous, relationship, between, two, love...  \n",
              "2  [the, stripe, bat, be, hang, on, their, foot, ...  \n",
              "3  [arcane, ritual, perform, indigenous, tribe, d...  \n",
              "4  [hermit, live, reclusive, life, hinterland, su...  "
            ],
            "text/html": [
              "\n",
              "  <div id=\"df-b6986c4b-a606-406e-a037-a858c2e6b15d\" class=\"colab-df-container\">\n",
              "    <div>\n",
              "<style scoped>\n",
              "    .dataframe tbody tr th:only-of-type {\n",
              "        vertical-align: middle;\n",
              "    }\n",
              "\n",
              "    .dataframe tbody tr th {\n",
              "        vertical-align: top;\n",
              "    }\n",
              "\n",
              "    .dataframe thead th {\n",
              "        text-align: right;\n",
              "    }\n",
              "</style>\n",
              "<table border=\"1\" class=\"dataframe\">\n",
              "  <thead>\n",
              "    <tr style=\"text-align: right;\">\n",
              "      <th></th>\n",
              "      <th>Input Sentences</th>\n",
              "      <th>Word Net Lemmatizer</th>\n",
              "      <th>TextBlob Lemmatizer</th>\n",
              "      <th>Spacy Lemmatization</th>\n",
              "    </tr>\n",
              "  </thead>\n",
              "  <tbody>\n",
              "    <tr>\n",
              "      <th>0</th>\n",
              "      <td>professor lectures were renowned for their pro...</td>\n",
              "      <td>[professor, lecture, were, renowned, for, thei...</td>\n",
              "      <td>[professor, lecture, were, renowned, for, thei...</td>\n",
              "      <td>[professor, lecture, be, renowne, for, their, ...</td>\n",
              "    </tr>\n",
              "    <tr>\n",
              "      <th>1</th>\n",
              "      <td>tempestuous relationship between two lovers wa...</td>\n",
              "      <td>[tempestuous, relationship, between, two, love...</td>\n",
              "      <td>[tempestuous, relationship, between, two, love...</td>\n",
              "      <td>[tempestuous, relationship, between, two, love...</td>\n",
              "    </tr>\n",
              "    <tr>\n",
              "      <th>2</th>\n",
              "      <td>The striped bats were hanging on their feet an...</td>\n",
              "      <td>[The, striped, bat, were, hanging, on, their, ...</td>\n",
              "      <td>[The, striped, bat, were, hanging, on, their, ...</td>\n",
              "      <td>[the, stripe, bat, be, hang, on, their, foot, ...</td>\n",
              "    </tr>\n",
              "    <tr>\n",
              "      <th>3</th>\n",
              "      <td>arcane rituals performed indigenous tribe duri...</td>\n",
              "      <td>[arcane, ritual, performed, indigenous, tribe,...</td>\n",
              "      <td>[arcane, ritual, performed, indigenous, tribe,...</td>\n",
              "      <td>[arcane, ritual, perform, indigenous, tribe, d...</td>\n",
              "    </tr>\n",
              "    <tr>\n",
              "      <th>4</th>\n",
              "      <td>hermit lived reclusive life hinterlands surrou...</td>\n",
              "      <td>[hermit, lived, reclusive, life, hinterland, s...</td>\n",
              "      <td>[hermit, lived, reclusive, life, hinterland, s...</td>\n",
              "      <td>[hermit, live, reclusive, life, hinterland, su...</td>\n",
              "    </tr>\n",
              "  </tbody>\n",
              "</table>\n",
              "</div>\n",
              "    <div class=\"colab-df-buttons\">\n",
              "\n",
              "  <div class=\"colab-df-container\">\n",
              "    <button class=\"colab-df-convert\" onclick=\"convertToInteractive('df-b6986c4b-a606-406e-a037-a858c2e6b15d')\"\n",
              "            title=\"Convert this dataframe to an interactive table.\"\n",
              "            style=\"display:none;\">\n",
              "\n",
              "  <svg xmlns=\"http://www.w3.org/2000/svg\" height=\"24px\" viewBox=\"0 -960 960 960\">\n",
              "    <path d=\"M120-120v-720h720v720H120Zm60-500h600v-160H180v160Zm220 220h160v-160H400v160Zm0 220h160v-160H400v160ZM180-400h160v-160H180v160Zm440 0h160v-160H620v160ZM180-180h160v-160H180v160Zm440 0h160v-160H620v160Z\"/>\n",
              "  </svg>\n",
              "    </button>\n",
              "\n",
              "  <style>\n",
              "    .colab-df-container {\n",
              "      display:flex;\n",
              "      gap: 12px;\n",
              "    }\n",
              "\n",
              "    .colab-df-convert {\n",
              "      background-color: #E8F0FE;\n",
              "      border: none;\n",
              "      border-radius: 50%;\n",
              "      cursor: pointer;\n",
              "      display: none;\n",
              "      fill: #1967D2;\n",
              "      height: 32px;\n",
              "      padding: 0 0 0 0;\n",
              "      width: 32px;\n",
              "    }\n",
              "\n",
              "    .colab-df-convert:hover {\n",
              "      background-color: #E2EBFA;\n",
              "      box-shadow: 0px 1px 2px rgba(60, 64, 67, 0.3), 0px 1px 3px 1px rgba(60, 64, 67, 0.15);\n",
              "      fill: #174EA6;\n",
              "    }\n",
              "\n",
              "    .colab-df-buttons div {\n",
              "      margin-bottom: 4px;\n",
              "    }\n",
              "\n",
              "    [theme=dark] .colab-df-convert {\n",
              "      background-color: #3B4455;\n",
              "      fill: #D2E3FC;\n",
              "    }\n",
              "\n",
              "    [theme=dark] .colab-df-convert:hover {\n",
              "      background-color: #434B5C;\n",
              "      box-shadow: 0px 1px 3px 1px rgba(0, 0, 0, 0.15);\n",
              "      filter: drop-shadow(0px 1px 2px rgba(0, 0, 0, 0.3));\n",
              "      fill: #FFFFFF;\n",
              "    }\n",
              "  </style>\n",
              "\n",
              "    <script>\n",
              "      const buttonEl =\n",
              "        document.querySelector('#df-b6986c4b-a606-406e-a037-a858c2e6b15d button.colab-df-convert');\n",
              "      buttonEl.style.display =\n",
              "        google.colab.kernel.accessAllowed ? 'block' : 'none';\n",
              "\n",
              "      async function convertToInteractive(key) {\n",
              "        const element = document.querySelector('#df-b6986c4b-a606-406e-a037-a858c2e6b15d');\n",
              "        const dataTable =\n",
              "          await google.colab.kernel.invokeFunction('convertToInteractive',\n",
              "                                                    [key], {});\n",
              "        if (!dataTable) return;\n",
              "\n",
              "        const docLinkHtml = 'Like what you see? Visit the ' +\n",
              "          '<a target=\"_blank\" href=https://colab.research.google.com/notebooks/data_table.ipynb>data table notebook</a>'\n",
              "          + ' to learn more about interactive tables.';\n",
              "        element.innerHTML = '';\n",
              "        dataTable['output_type'] = 'display_data';\n",
              "        await google.colab.output.renderOutput(dataTable, element);\n",
              "        const docLink = document.createElement('div');\n",
              "        docLink.innerHTML = docLinkHtml;\n",
              "        element.appendChild(docLink);\n",
              "      }\n",
              "    </script>\n",
              "  </div>\n",
              "\n",
              "\n",
              "<div id=\"df-21a9bd7b-390e-47dc-b166-91e9a7df8e16\">\n",
              "  <button class=\"colab-df-quickchart\" onclick=\"quickchart('df-21a9bd7b-390e-47dc-b166-91e9a7df8e16')\"\n",
              "            title=\"Suggest charts\"\n",
              "            style=\"display:none;\">\n",
              "\n",
              "<svg xmlns=\"http://www.w3.org/2000/svg\" height=\"24px\"viewBox=\"0 0 24 24\"\n",
              "     width=\"24px\">\n",
              "    <g>\n",
              "        <path d=\"M19 3H5c-1.1 0-2 .9-2 2v14c0 1.1.9 2 2 2h14c1.1 0 2-.9 2-2V5c0-1.1-.9-2-2-2zM9 17H7v-7h2v7zm4 0h-2V7h2v10zm4 0h-2v-4h2v4z\"/>\n",
              "    </g>\n",
              "</svg>\n",
              "  </button>\n",
              "\n",
              "<style>\n",
              "  .colab-df-quickchart {\n",
              "      --bg-color: #E8F0FE;\n",
              "      --fill-color: #1967D2;\n",
              "      --hover-bg-color: #E2EBFA;\n",
              "      --hover-fill-color: #174EA6;\n",
              "      --disabled-fill-color: #AAA;\n",
              "      --disabled-bg-color: #DDD;\n",
              "  }\n",
              "\n",
              "  [theme=dark] .colab-df-quickchart {\n",
              "      --bg-color: #3B4455;\n",
              "      --fill-color: #D2E3FC;\n",
              "      --hover-bg-color: #434B5C;\n",
              "      --hover-fill-color: #FFFFFF;\n",
              "      --disabled-bg-color: #3B4455;\n",
              "      --disabled-fill-color: #666;\n",
              "  }\n",
              "\n",
              "  .colab-df-quickchart {\n",
              "    background-color: var(--bg-color);\n",
              "    border: none;\n",
              "    border-radius: 50%;\n",
              "    cursor: pointer;\n",
              "    display: none;\n",
              "    fill: var(--fill-color);\n",
              "    height: 32px;\n",
              "    padding: 0;\n",
              "    width: 32px;\n",
              "  }\n",
              "\n",
              "  .colab-df-quickchart:hover {\n",
              "    background-color: var(--hover-bg-color);\n",
              "    box-shadow: 0 1px 2px rgba(60, 64, 67, 0.3), 0 1px 3px 1px rgba(60, 64, 67, 0.15);\n",
              "    fill: var(--button-hover-fill-color);\n",
              "  }\n",
              "\n",
              "  .colab-df-quickchart-complete:disabled,\n",
              "  .colab-df-quickchart-complete:disabled:hover {\n",
              "    background-color: var(--disabled-bg-color);\n",
              "    fill: var(--disabled-fill-color);\n",
              "    box-shadow: none;\n",
              "  }\n",
              "\n",
              "  .colab-df-spinner {\n",
              "    border: 2px solid var(--fill-color);\n",
              "    border-color: transparent;\n",
              "    border-bottom-color: var(--fill-color);\n",
              "    animation:\n",
              "      spin 1s steps(1) infinite;\n",
              "  }\n",
              "\n",
              "  @keyframes spin {\n",
              "    0% {\n",
              "      border-color: transparent;\n",
              "      border-bottom-color: var(--fill-color);\n",
              "      border-left-color: var(--fill-color);\n",
              "    }\n",
              "    20% {\n",
              "      border-color: transparent;\n",
              "      border-left-color: var(--fill-color);\n",
              "      border-top-color: var(--fill-color);\n",
              "    }\n",
              "    30% {\n",
              "      border-color: transparent;\n",
              "      border-left-color: var(--fill-color);\n",
              "      border-top-color: var(--fill-color);\n",
              "      border-right-color: var(--fill-color);\n",
              "    }\n",
              "    40% {\n",
              "      border-color: transparent;\n",
              "      border-right-color: var(--fill-color);\n",
              "      border-top-color: var(--fill-color);\n",
              "    }\n",
              "    60% {\n",
              "      border-color: transparent;\n",
              "      border-right-color: var(--fill-color);\n",
              "    }\n",
              "    80% {\n",
              "      border-color: transparent;\n",
              "      border-right-color: var(--fill-color);\n",
              "      border-bottom-color: var(--fill-color);\n",
              "    }\n",
              "    90% {\n",
              "      border-color: transparent;\n",
              "      border-bottom-color: var(--fill-color);\n",
              "    }\n",
              "  }\n",
              "</style>\n",
              "\n",
              "  <script>\n",
              "    async function quickchart(key) {\n",
              "      const quickchartButtonEl =\n",
              "        document.querySelector('#' + key + ' button');\n",
              "      quickchartButtonEl.disabled = true;  // To prevent multiple clicks.\n",
              "      quickchartButtonEl.classList.add('colab-df-spinner');\n",
              "      try {\n",
              "        const charts = await google.colab.kernel.invokeFunction(\n",
              "            'suggestCharts', [key], {});\n",
              "      } catch (error) {\n",
              "        console.error('Error during call to suggestCharts:', error);\n",
              "      }\n",
              "      quickchartButtonEl.classList.remove('colab-df-spinner');\n",
              "      quickchartButtonEl.classList.add('colab-df-quickchart-complete');\n",
              "    }\n",
              "    (() => {\n",
              "      let quickchartButtonEl =\n",
              "        document.querySelector('#df-21a9bd7b-390e-47dc-b166-91e9a7df8e16 button');\n",
              "      quickchartButtonEl.style.display =\n",
              "        google.colab.kernel.accessAllowed ? 'block' : 'none';\n",
              "    })();\n",
              "  </script>\n",
              "</div>\n",
              "    </div>\n",
              "  </div>\n"
            ],
            "application/vnd.google.colaboratory.intrinsic+json": {
              "type": "dataframe",
              "variable_name": "df_lemmatizers",
              "summary": "{\n  \"name\": \"df_lemmatizers\",\n  \"rows\": 5,\n  \"fields\": [\n    {\n      \"column\": \"Input Sentences\",\n      \"properties\": {\n        \"dtype\": \"string\",\n        \"num_unique_values\": 5,\n        \"samples\": [\n          \"tempestuous relationship between two lovers was fraught with acrimony and recrimination\",\n          \"hermit lived reclusive life hinterlands surrounded arcane artifacts and ancient texts\",\n          \"The striped bats were hanging on their feet and ate best fishes\"\n        ],\n        \"semantic_type\": \"\",\n        \"description\": \"\"\n      }\n    },\n    {\n      \"column\": \"Word Net Lemmatizer\",\n      \"properties\": {\n        \"dtype\": \"object\",\n        \"semantic_type\": \"\",\n        \"description\": \"\"\n      }\n    },\n    {\n      \"column\": \"TextBlob Lemmatizer\",\n      \"properties\": {\n        \"dtype\": \"object\",\n        \"semantic_type\": \"\",\n        \"description\": \"\"\n      }\n    },\n    {\n      \"column\": \"Spacy Lemmatization\",\n      \"properties\": {\n        \"dtype\": \"object\",\n        \"semantic_type\": \"\",\n        \"description\": \"\"\n      }\n    }\n  ]\n}"
            }
          },
          "metadata": {},
          "execution_count": 84
        }
      ],
      "source": [
        "df_lemmatizers"
      ]
    }
  ],
  "metadata": {
    "colab": {
      "provenance": [],
      "authorship_tag": "ABX9TyMjZe3Y0ThhRPN4sA5nsLfJ",
      "include_colab_link": true
    },
    "kernelspec": {
      "display_name": "Python 3",
      "name": "python3"
    },
    "language_info": {
      "name": "python"
    }
  },
  "nbformat": 4,
  "nbformat_minor": 0
}